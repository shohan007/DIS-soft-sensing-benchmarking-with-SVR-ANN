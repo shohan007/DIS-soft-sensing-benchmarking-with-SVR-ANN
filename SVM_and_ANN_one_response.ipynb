{
  "nbformat": 4,
  "nbformat_minor": 0,
  "metadata": {
    "colab": {
      "name": "SVM and ANN one response",
      "provenance": [],
      "toc_visible": true,
      "authorship_tag": "ABX9TyMOJtb0RC5lZat1r96rdhjR",
      "include_colab_link": true
    },
    "kernelspec": {
      "name": "python3",
      "display_name": "Python 3"
    }
  },
  "cells": [
    {
      "cell_type": "markdown",
      "metadata": {
        "id": "view-in-github",
        "colab_type": "text"
      },
      "source": [
        "<a href=\"https://colab.research.google.com/github/shohan007/DIS-soft-sensing-benchmarking-with-SVR-ANN/blob/main/SVM_and_ANN_one_response.ipynb\" target=\"_parent\"><img src=\"https://colab.research.google.com/assets/colab-badge.svg\" alt=\"Open In Colab\"/></a>"
      ]
    },
    {
      "cell_type": "code",
      "metadata": {
        "id": "JmnVSUbuHy51"
      },
      "source": [
        "from pandas import DataFrame\r\n",
        "from pandas import concat\r\n",
        "import pandas as pd\r\n",
        "import numpy as np\r\n",
        "import matplotlib.pyplot as plt\r\n",
        "from sklearn.svm import SVR\r\n",
        "from sklearn import preprocessing\r\n",
        "\r\n",
        "#One-Step Univariate Forecasting function\r\n",
        " \r\n",
        "def series_to_supervised(data, n_in=1, n_out=1, dropnan=True):\r\n",
        "\t\"\"\"\r\n",
        "\tFrame a time series as a supervised learning dataset.\r\n",
        "\tArguments:\r\n",
        "\t\tdata: Sequence of observations as a list or NumPy array.\r\n",
        "\t\tn_in: Number of lag observations as input (X).\r\n",
        "\t\tn_out: Number of observations as output (y).\r\n",
        "\t\tdropnan: Boolean whether or not to drop rows with NaN values.\r\n",
        "\tReturns:\r\n",
        "\t\tPandas DataFrame of series framed for supervised learning.\r\n",
        "\t\"\"\"\r\n",
        "\tn_vars = 1 if type(data) is list else data.shape[1]\r\n",
        "\tdf = DataFrame(data)\r\n",
        "\tcols, names = list(), list()\r\n",
        "\t# input sequence (t-n, ... t-1)\r\n",
        "\tfor i in range(n_in, 0, -1):\r\n",
        "\t\tcols.append(df.shift(i))\r\n",
        "\t\tnames += [('var%d(t-%d)' % (j+1, i)) for j in range(n_vars)]\r\n",
        "\t# forecast sequence (t, t+1, ... t+n)\r\n",
        "\tfor i in range(0, n_out):\r\n",
        "\t\tcols.append(df.shift(-i))\r\n",
        "\t\tif i == 0:\r\n",
        "\t\t\tnames += [('var%d(t)' % (j+1)) for j in range(n_vars)]\r\n",
        "\t\telse:\r\n",
        "\t\t\tnames += [('var%d(t+%d)' % (j+1, i)) for j in range(n_vars)]\r\n",
        "\t# put it all together\r\n",
        "\tagg = concat(cols, axis=1)\r\n",
        "\tagg.columns = names\r\n",
        "\t# drop rows with NaN values\r\n",
        "\tif dropnan:\r\n",
        "\t\tagg.dropna(inplace=True)\r\n",
        "\treturn agg"
      ],
      "execution_count": 58,
      "outputs": []
    },
    {
      "cell_type": "code",
      "metadata": {
        "colab": {
          "base_uri": "https://localhost:8080/"
        },
        "id": "XaiH36PhNZha",
        "outputId": "34e5d3ba-619c-4c58-c3ef-d18f29364177"
      },
      "source": [
        "#Data preprocessing\r\n",
        "dataset=pd.read_excel('/content/vetch for svm_5data.xlsx')\r\n",
        "values=dataset.iloc[:,16]\r\n",
        "values=pd.DataFrame(values)\r\n",
        "#values.head(10)\r\n",
        "\r\n",
        "# data splitting (last 10 row (2 days) test data)\r\n",
        "\r\n",
        "data = series_to_supervised(values,5)   # changing the numeric value changes the time lag difference (2-5 should be allowable as we are using maximum of 5 data from each day)\r\n",
        "#print(data)\r\n",
        "#scale= preprocessing.MinMaxScaler()\r\n",
        "#data[data.columns] = scale.fit_transform(data)\r\n",
        "#data\r\n",
        "\r\n",
        "X=data.iloc[:,1:-1]  \r\n",
        "y=pd.DataFrame(data.iloc[:,-1]) #Last row as Y value\r\n",
        "\r\n",
        "#Training Test split\r\n",
        "\r\n",
        "X_train=X.iloc[1:-10,:].values\r\n",
        "y_train=y.iloc[1:-10,:].values             #last 10 row test and prediction data\r\n",
        "\r\n",
        "X_test=X.iloc[X_train.shape[0]:,:].values\r\n",
        "y_test=y.iloc[y_train.shape[0]:,:].values  \r\n",
        "\r\n",
        "y_train_df=y.iloc[1:-10,:] #making dataframe for using in graph\r\n",
        "y_test_df=y.iloc[y_train.shape[0]:,:] #making dataframe for using in graph\r\n",
        "\r\n",
        "\r\n",
        "#data.head()\r\n",
        "\r\n",
        "# Create the SVR regressor\r\n",
        "regressor = SVR(C=1, epsilon=.1, kernel = 'linear')\r\n",
        "sor = regressor.fit(X_train, y_train) #single output regression\r\n",
        "\r\n",
        "# Generate predictions for testing data\r\n",
        "y_pred = sor.predict(X_test)\r\n",
        "\r\n",
        "#prediction of test sata\r\n",
        "predictions_y=pd.DataFrame(y_pred)\r\n",
        "predictions_y.set_index(y_test_df.index, inplace=True)\r\n",
        "predictions_y.rename(columns={0: 'DeltaP'}, inplace=True)\r\n",
        "#y_test_df.head()  \r\n",
        "\r\n",
        "#predictions_y\r\n",
        "predictions_y.head()\r\n",
        "\r\n",
        "#predictions of training data\r\n",
        "predictions_x=pd.DataFrame(sor.predict(X_train))\r\n",
        "#predictions_x.head()\r\n",
        "\r\n",
        "# Calculate the root mean square error (RMSE), normalized root mean square error (nRMSE) for test and training data\r\n",
        "N = len(y_test)\r\n",
        "rmse_test = np.sqrt(np.sum((np.array(y_test).flatten() - np.array(predictions_y).flatten())**2)/N)\r\n",
        "nRMSE_test=rmse_test/(y_test_df.max().values-y_test_df.min().values)\r\n",
        "print(\"nRMSE TEST: \", nRMSE_test)    \r\n",
        "\r\n",
        "N = len(y_train)\r\n",
        "rmse_train = np.sqrt(np.sum((np.array(y_train).flatten() - np.array(predictions_x).flatten())**2)/N)\r\n",
        "nRMSE_train=rmse_test/(y_train_df.max().values-y_train_df.min().values)\r\n",
        "print(\"nRMSE train: \", nRMSE_train) \r\n",
        "\r\n",
        "print(\"RMSE TEST: \", rmse_test) \r\n",
        "print(\"RMSE train: \", rmse_train)"
      ],
      "execution_count": 106,
      "outputs": [
        {
          "output_type": "stream",
          "text": [
            "nRMSE TEST:  [0.25657078]\n",
            "nRMSE train:  [0.14562569]\n",
            "RMSE TEST:  0.2273217090096336\n",
            "RMSE train:  0.30514969727556746\n"
          ],
          "name": "stdout"
        },
        {
          "output_type": "stream",
          "text": [
            "/usr/local/lib/python3.7/dist-packages/sklearn/utils/validation.py:760: DataConversionWarning: A column-vector y was passed when a 1d array was expected. Please change the shape of y to (n_samples, ), for example using ravel().\n",
            "  y = column_or_1d(y, warn=True)\n"
          ],
          "name": "stderr"
        }
      ]
    },
    {
      "cell_type": "code",
      "metadata": {
        "colab": {
          "base_uri": "https://localhost:8080/"
        },
        "id": "cgCMGyUVVVGo",
        "outputId": "2e6c0eed-540e-4893-f64e-ac5077f4aa8d"
      },
      "source": [
        "#With cross validation\r\n",
        "\r\n",
        "from numpy import absolute\r\n",
        "from numpy import mean\r\n",
        "from numpy import std\r\n",
        "from sklearn.model_selection import cross_val_score\r\n",
        "from sklearn.model_selection import RepeatedKFold\r\n",
        "\r\n",
        "# define the evaluation procedure\r\n",
        "cv = RepeatedKFold(n_splits=5, n_repeats=3, random_state=1)\r\n",
        "\r\n",
        "# evaluate the model and collect the scores\r\n",
        "n_scores = cross_val_score(sor, X, y, scoring='neg_mean_absolute_error', cv=cv, n_jobs=-1)\r\n",
        "\r\n",
        "# force the scores to be positive\r\n",
        "n_scores = absolute(n_scores)\r\n",
        "# summarize performance\r\n",
        "print('MAE: %.3f (%.3f)' % (mean(n_scores), std(n_scores)))"
      ],
      "execution_count": 109,
      "outputs": [
        {
          "output_type": "stream",
          "text": [
            "MAE: 0.231 (0.041)\n"
          ],
          "name": "stdout"
        }
      ]
    },
    {
      "cell_type": "markdown",
      "metadata": {
        "id": "VXbtGtJ_aluB"
      },
      "source": [
        "##ANN"
      ]
    },
    {
      "cell_type": "code",
      "metadata": {
        "id": "jIYFUVesTqpO",
        "colab": {
          "base_uri": "https://localhost:8080/",
          "height": 197
        },
        "outputId": "24667a67-e14b-4410-eb7c-803f3d070154"
      },
      "source": [
        "from numpy import asarray\r\n",
        "from sklearn.datasets import make_regression\r\n",
        "from keras.models import Sequential\r\n",
        "from keras.layers import Dense\r\n",
        "\r\n",
        "# data splitting (last 20 row test data)\r\n",
        "\r\n",
        "data = series_to_supervised(values,5)\r\n",
        "#print(data)\r\n",
        "#scale= preprocessing.MinMaxScaler()\r\n",
        "#data[data.columns] = scale.fit_transform(data)\r\n",
        "#data\r\n",
        "\r\n",
        "X=data.iloc[:,1:-1]  \r\n",
        "y=pd.DataFrame(data.iloc[:,-1]) #Last 10 column Y value\r\n",
        "\r\n",
        "#Training Test split\r\n",
        "\r\n",
        "X_train=X.iloc[1:-10,:].values\r\n",
        "X_test=X.iloc[X_train.shape[0]:,:].values\r\n",
        "\r\n",
        "y_train=y.iloc[1:-10,:].values      #last 10 row test and prediction data\r\n",
        "y_test=y.iloc[y_train.shape[0]:,:].values\r\n",
        "\r\n",
        "y_train_df=y.iloc[1:-10,:]\r\n",
        "y_test_df=y.iloc[y_train.shape[0]:,:]\r\n",
        "\r\n",
        "data.head()"
      ],
      "execution_count": 112,
      "outputs": [
        {
          "output_type": "execute_result",
          "data": {
            "text/html": [
              "<div>\n",
              "<style scoped>\n",
              "    .dataframe tbody tr th:only-of-type {\n",
              "        vertical-align: middle;\n",
              "    }\n",
              "\n",
              "    .dataframe tbody tr th {\n",
              "        vertical-align: top;\n",
              "    }\n",
              "\n",
              "    .dataframe thead th {\n",
              "        text-align: right;\n",
              "    }\n",
              "</style>\n",
              "<table border=\"1\" class=\"dataframe\">\n",
              "  <thead>\n",
              "    <tr style=\"text-align: right;\">\n",
              "      <th></th>\n",
              "      <th>var1(t-5)</th>\n",
              "      <th>var1(t-4)</th>\n",
              "      <th>var1(t-3)</th>\n",
              "      <th>var1(t-2)</th>\n",
              "      <th>var1(t-1)</th>\n",
              "      <th>var1(t)</th>\n",
              "    </tr>\n",
              "  </thead>\n",
              "  <tbody>\n",
              "    <tr>\n",
              "      <th>5</th>\n",
              "      <td>1.798</td>\n",
              "      <td>1.842</td>\n",
              "      <td>1.681</td>\n",
              "      <td>1.659</td>\n",
              "      <td>1.597</td>\n",
              "      <td>2.684</td>\n",
              "    </tr>\n",
              "    <tr>\n",
              "      <th>6</th>\n",
              "      <td>1.842</td>\n",
              "      <td>1.681</td>\n",
              "      <td>1.659</td>\n",
              "      <td>1.597</td>\n",
              "      <td>2.684</td>\n",
              "      <td>2.764</td>\n",
              "    </tr>\n",
              "    <tr>\n",
              "      <th>7</th>\n",
              "      <td>1.681</td>\n",
              "      <td>1.659</td>\n",
              "      <td>1.597</td>\n",
              "      <td>2.684</td>\n",
              "      <td>2.764</td>\n",
              "      <td>2.461</td>\n",
              "    </tr>\n",
              "    <tr>\n",
              "      <th>8</th>\n",
              "      <td>1.659</td>\n",
              "      <td>1.597</td>\n",
              "      <td>2.684</td>\n",
              "      <td>2.764</td>\n",
              "      <td>2.461</td>\n",
              "      <td>2.669</td>\n",
              "    </tr>\n",
              "    <tr>\n",
              "      <th>9</th>\n",
              "      <td>1.597</td>\n",
              "      <td>2.684</td>\n",
              "      <td>2.764</td>\n",
              "      <td>2.461</td>\n",
              "      <td>2.669</td>\n",
              "      <td>2.486</td>\n",
              "    </tr>\n",
              "  </tbody>\n",
              "</table>\n",
              "</div>"
            ],
            "text/plain": [
              "   var1(t-5)  var1(t-4)  var1(t-3)  var1(t-2)  var1(t-1)  var1(t)\n",
              "5      1.798      1.842      1.681      1.659      1.597    2.684\n",
              "6      1.842      1.681      1.659      1.597      2.684    2.764\n",
              "7      1.681      1.659      1.597      2.684      2.764    2.461\n",
              "8      1.659      1.597      2.684      2.764      2.461    2.669\n",
              "9      1.597      2.684      2.764      2.461      2.669    2.486"
            ]
          },
          "metadata": {
            "tags": []
          },
          "execution_count": 112
        }
      ]
    },
    {
      "cell_type": "code",
      "metadata": {
        "colab": {
          "base_uri": "https://localhost:8080/"
        },
        "id": "kHLo9GJzZ-Uv",
        "outputId": "e4e53240-357c-4b80-b103-73e4c8e80796"
      },
      "source": [
        "# use mlp for prediction on multi-output regression\r\n",
        "\r\n",
        "# get the model\r\n",
        "def get_model(n_inputs, n_outputs):\r\n",
        "\tmodel = Sequential()\r\n",
        "\tmodel.add(Dense(8, input_dim=n_inputs, kernel_initializer='he_uniform', activation='relu'))\r\n",
        "\tmodel.add(Dense(12, kernel_initializer='he_uniform', activation='relu')) \r\n",
        "\tmodel.add(Dense(n_outputs, kernel_initializer='he_uniform'))\r\n",
        "\tmodel.compile(loss='mae', optimizer='adam')\r\n",
        "\treturn model\r\n",
        " \r\n",
        "# load dataset\r\n",
        "n_inputs, n_outputs = X.shape[1], y.shape[1]\r\n",
        "\r\n",
        "# get model\r\n",
        "model = get_model(n_inputs, n_outputs)\r\n",
        "\r\n",
        "# fit the model on all data\r\n",
        "model.fit(X_train, y_train, verbose=0, epochs=5000)\r\n",
        "\r\n",
        "# make a prediction for new data\r\n",
        "yhat = model.predict(X_test)\r\n",
        "#print('Predicted: %s' % yhat[0])\r\n",
        "\r\n",
        "#prediction of test data\r\n",
        "predictions_y=pd.DataFrame(yhat)\r\n",
        "predictions_y.set_index(y_test_df.index, inplace=True)\r\n",
        "predictions_y.rename(columns={0: 'DeltaP'}, inplace=True)\r\n",
        "#predictions_y\r\n",
        "#y_test_df.head()  \r\n",
        "\r\n",
        "#predictions of training data\r\n",
        "predictions_x=pd.DataFrame(model.predict(X_train))\r\n",
        "\r\n",
        "# Calculate the root mean square error (RMSE) for test and training data\r\n",
        "N = len(y_test)\r\n",
        "rmse_test = np.sqrt(np.sum((np.array(y_test).flatten() - np.array(predictions_y).flatten())**2)/N)\r\n",
        "nRMSE_test=rmse_test/(y_test_df.max().values-y_test_df.min().values)\r\n",
        "print(\"nRMSE TEST: \", nRMSE_test)    \r\n",
        "\r\n",
        "N = len(y_train)\r\n",
        "rmse_train = np.sqrt(np.sum((np.array(y_train).flatten() - np.array(predictions_x).flatten())**2)/N)\r\n",
        "nRMSE_train=rmse_train/(y_train_df.max().values-y_train_df.min().values)\r\n",
        "print(\"nRMSE train: \", nRMSE_train)\r\n",
        "\r\n",
        "print(\"RMSE TEST: \", rmse_test) \r\n",
        "print(\"RMSE train: \", rmse_train)\r\n"
      ],
      "execution_count": 113,
      "outputs": [
        {
          "output_type": "stream",
          "text": [
            "WARNING:tensorflow:5 out of the last 13 calls to <function Model.make_predict_function.<locals>.predict_function at 0x7f01aba0d0e0> triggered tf.function retracing. Tracing is expensive and the excessive number of tracings could be due to (1) creating @tf.function repeatedly in a loop, (2) passing tensors with different shapes, (3) passing Python objects instead of tensors. For (1), please define your @tf.function outside of the loop. For (2), @tf.function has experimental_relax_shapes=True option that relaxes argument shapes that can avoid unnecessary retracing. For (3), please refer to https://www.tensorflow.org/guide/function#controlling_retracing and https://www.tensorflow.org/api_docs/python/tf/function for  more details.\n",
            "nRMSE TEST:  [0.23661637]\n",
            "nRMSE train:  [0.18292488]\n",
            "RMSE TEST:  0.2096421029778815\n",
            "RMSE train:  0.2855457327950463\n"
          ],
          "name": "stdout"
        }
      ]
    },
    {
      "cell_type": "code",
      "metadata": {
        "colab": {
          "base_uri": "https://localhost:8080/"
        },
        "id": "6ljYkrAlX9rX",
        "outputId": "f4ad99a8-8b2d-45a2-8cec-a133bf7a7e0c"
      },
      "source": [
        "# Calculate the root mean square error (RMSE) for test and training data\r\n",
        "\r\n",
        "#prediction of test sata\r\n",
        "predictions_y=pd.DataFrame(yhat)\r\n",
        "predictions_y.set_index(y_test_df.index, inplace=True)\r\n",
        "predictions_y.rename(columns={0: 'DeltaP'}, inplace=True)\r\n",
        "#predictions_y\r\n",
        "#y_test_df.head()  \r\n",
        "\r\n",
        "#predictions of training data\r\n",
        "predictions_x=pd.DataFrame(model.predict(X_train))\r\n",
        "\r\n",
        "# Calculate the root mean square error (RMSE) for test and training data\r\n",
        "N = len(y_test)\r\n",
        "rmse_test = np.sqrt(np.sum((np.array(y_test).flatten() - np.array(predictions_y).flatten())**2)/N)\r\n",
        "nRMSE_test=rmse_test/(y_test_df.max().values-y_test_df.min().values)\r\n",
        "print(\"nRMSE TEST: \", nRMSE_test)    \r\n",
        "\r\n",
        "N = len(y_train)\r\n",
        "rmse_train = np.sqrt(np.sum((np.array(y_train).flatten() - np.array(predictions_x).flatten())**2)/N)\r\n",
        "nRMSE_train=rmse_train/(y_train_df.max().values-y_train_df.min().values)\r\n",
        "print(\"nRMSE train: \", nRMSE_train)\r\n",
        "\r\n",
        "print(\"RMSE TEST: \", rmse_test) \r\n",
        "print(\"RMSE train: \", rmse_train)"
      ],
      "execution_count": 114,
      "outputs": [
        {
          "output_type": "stream",
          "text": [
            "nRMSE TEST:  [0.23661637]\n",
            "nRMSE train:  [0.18292488]\n",
            "RMSE TEST:  0.2096421029778815\n",
            "RMSE train:  0.2855457327950463\n"
          ],
          "name": "stdout"
        }
      ]
    },
    {
      "cell_type": "code",
      "metadata": {
        "id": "0atqZeeTag0-"
      },
      "source": [
        ""
      ],
      "execution_count": null,
      "outputs": []
    }
  ]
}